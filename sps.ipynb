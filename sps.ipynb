{
 "cells": [
  {
   "cell_type": "markdown",
   "metadata": {},
   "source": [
    "## Importing data"
   ]
  },
  {
   "cell_type": "code",
   "execution_count": 17,
   "metadata": {},
   "outputs": [],
   "source": [
    "import pandas as pd \n",
    "import matplotlib.pyplot as plt\n",
    "import numpy as np\n",
    "from scipy import stats\n",
    "\n",
    "rr_data = pd.DataFrame(pd.read_csv(\"data/data_RR_merged_20190108.csv\"))\n",
    "m_data = pd.DataFrame(pd.read_csv(\"data/data_M_merged_20190108.csv\"))"
   ]
  },
  {
   "cell_type": "code",
   "execution_count": 5,
   "metadata": {},
   "outputs": [],
   "source": [
    "# get indices with warmup rounds\n",
    "rr_indexNames = rr_data[rr_data['round'] == 'warmup'].index\n",
    "# delete these row indexes from the frame\n",
    "rr_data.drop(rr_indexNames, inplace=True)\n",
    "\n",
    "# get indices with warmup rounds\n",
    "m_indexNames = m_data[m_data['round'] == 'warmup'].index\n",
    "# delete these row indexes from the frame\n",
    "m_data.drop(m_indexNames, inplace=True)"
   ]
  },
  {
   "cell_type": "code",
   "execution_count": 6,
   "metadata": {},
   "outputs": [
    {
     "data": {
      "text/html": [
       "<div>\n",
       "<style scoped>\n",
       "    .dataframe tbody tr th:only-of-type {\n",
       "        vertical-align: middle;\n",
       "    }\n",
       "\n",
       "    .dataframe tbody tr th {\n",
       "        vertical-align: top;\n",
       "    }\n",
       "\n",
       "    .dataframe thead th {\n",
       "        text-align: right;\n",
       "    }\n",
       "</style>\n",
       "<table border=\"1\" class=\"dataframe\">\n",
       "  <thead>\n",
       "    <tr style=\"text-align: right;\">\n",
       "      <th></th>\n",
       "      <th>ID</th>\n",
       "      <th>index_runner</th>\n",
       "      <th>side_runner</th>\n",
       "      <th>square_runner</th>\n",
       "      <th>python_tijd</th>\n",
       "      <th>spel</th>\n",
       "      <th>permutation</th>\n",
       "      <th>round</th>\n",
       "      <th>level</th>\n",
       "      <th>times_level_played_before</th>\n",
       "      <th>...</th>\n",
       "      <th>costheta</th>\n",
       "      <th>mabc_percentile_score</th>\n",
       "      <th>mabc_binary_score</th>\n",
       "      <th>gender</th>\n",
       "      <th>age_precise</th>\n",
       "      <th>ax_f</th>\n",
       "      <th>ay_f</th>\n",
       "      <th>az_f</th>\n",
       "      <th>acc</th>\n",
       "      <th>jerk</th>\n",
       "    </tr>\n",
       "  </thead>\n",
       "  <tbody>\n",
       "    <tr>\n",
       "      <th>6267</th>\n",
       "      <td>101</td>\n",
       "      <td>23</td>\n",
       "      <td>2</td>\n",
       "      <td>5</td>\n",
       "      <td>1.497942e+09</td>\n",
       "      <td>RR</td>\n",
       "      <td>1</td>\n",
       "      <td>level_A</td>\n",
       "      <td>0</td>\n",
       "      <td>1</td>\n",
       "      <td>...</td>\n",
       "      <td>0.892647</td>\n",
       "      <td>37.0</td>\n",
       "      <td>0</td>\n",
       "      <td>1</td>\n",
       "      <td>7.009042</td>\n",
       "      <td>10.051521</td>\n",
       "      <td>0.465580</td>\n",
       "      <td>-0.175396</td>\n",
       "      <td>10.063826</td>\n",
       "      <td>0.486787</td>\n",
       "    </tr>\n",
       "    <tr>\n",
       "      <th>6268</th>\n",
       "      <td>101</td>\n",
       "      <td>23</td>\n",
       "      <td>2</td>\n",
       "      <td>5</td>\n",
       "      <td>1.497942e+09</td>\n",
       "      <td>RR</td>\n",
       "      <td>1</td>\n",
       "      <td>level_A</td>\n",
       "      <td>0</td>\n",
       "      <td>1</td>\n",
       "      <td>...</td>\n",
       "      <td>0.892970</td>\n",
       "      <td>37.0</td>\n",
       "      <td>0</td>\n",
       "      <td>1</td>\n",
       "      <td>7.009042</td>\n",
       "      <td>10.054876</td>\n",
       "      <td>0.492001</td>\n",
       "      <td>-0.189980</td>\n",
       "      <td>10.068699</td>\n",
       "      <td>0.426291</td>\n",
       "    </tr>\n",
       "    <tr>\n",
       "      <th>6269</th>\n",
       "      <td>101</td>\n",
       "      <td>23</td>\n",
       "      <td>2</td>\n",
       "      <td>5</td>\n",
       "      <td>1.497942e+09</td>\n",
       "      <td>RR</td>\n",
       "      <td>1</td>\n",
       "      <td>level_A</td>\n",
       "      <td>0</td>\n",
       "      <td>1</td>\n",
       "      <td>...</td>\n",
       "      <td>0.895913</td>\n",
       "      <td>37.0</td>\n",
       "      <td>0</td>\n",
       "      <td>1</td>\n",
       "      <td>7.009042</td>\n",
       "      <td>10.057725</td>\n",
       "      <td>0.516986</td>\n",
       "      <td>-0.204504</td>\n",
       "      <td>10.073080</td>\n",
       "      <td>0.366575</td>\n",
       "    </tr>\n",
       "    <tr>\n",
       "      <th>6270</th>\n",
       "      <td>101</td>\n",
       "      <td>23</td>\n",
       "      <td>2</td>\n",
       "      <td>5</td>\n",
       "      <td>1.497942e+09</td>\n",
       "      <td>RR</td>\n",
       "      <td>1</td>\n",
       "      <td>level_A</td>\n",
       "      <td>0</td>\n",
       "      <td>1</td>\n",
       "      <td>...</td>\n",
       "      <td>0.898400</td>\n",
       "      <td>37.0</td>\n",
       "      <td>0</td>\n",
       "      <td>1</td>\n",
       "      <td>7.009042</td>\n",
       "      <td>10.060076</td>\n",
       "      <td>0.540607</td>\n",
       "      <td>-0.218956</td>\n",
       "      <td>10.076970</td>\n",
       "      <td>0.205269</td>\n",
       "    </tr>\n",
       "    <tr>\n",
       "      <th>6271</th>\n",
       "      <td>101</td>\n",
       "      <td>23</td>\n",
       "      <td>2</td>\n",
       "      <td>5</td>\n",
       "      <td>1.497942e+09</td>\n",
       "      <td>RR</td>\n",
       "      <td>1</td>\n",
       "      <td>level_A</td>\n",
       "      <td>0</td>\n",
       "      <td>1</td>\n",
       "      <td>...</td>\n",
       "      <td>0.897208</td>\n",
       "      <td>37.0</td>\n",
       "      <td>0</td>\n",
       "      <td>1</td>\n",
       "      <td>7.009042</td>\n",
       "      <td>10.061938</td>\n",
       "      <td>0.562936</td>\n",
       "      <td>-0.233327</td>\n",
       "      <td>10.080374</td>\n",
       "      <td>0.166991</td>\n",
       "    </tr>\n",
       "  </tbody>\n",
       "</table>\n",
       "<p>5 rows × 21 columns</p>\n",
       "</div>"
      ],
      "text/plain": [
       "       ID  index_runner  side_runner  square_runner   python_tijd spel  \\\n",
       "6267  101            23            2              5  1.497942e+09   RR   \n",
       "6268  101            23            2              5  1.497942e+09   RR   \n",
       "6269  101            23            2              5  1.497942e+09   RR   \n",
       "6270  101            23            2              5  1.497942e+09   RR   \n",
       "6271  101            23            2              5  1.497942e+09   RR   \n",
       "\n",
       "      permutation    round  level  times_level_played_before    ...     \\\n",
       "6267            1  level_A      0                          1    ...      \n",
       "6268            1  level_A      0                          1    ...      \n",
       "6269            1  level_A      0                          1    ...      \n",
       "6270            1  level_A      0                          1    ...      \n",
       "6271            1  level_A      0                          1    ...      \n",
       "\n",
       "      costheta  mabc_percentile_score  mabc_binary_score  gender  age_precise  \\\n",
       "6267  0.892647                   37.0                  0       1     7.009042   \n",
       "6268  0.892970                   37.0                  0       1     7.009042   \n",
       "6269  0.895913                   37.0                  0       1     7.009042   \n",
       "6270  0.898400                   37.0                  0       1     7.009042   \n",
       "6271  0.897208                   37.0                  0       1     7.009042   \n",
       "\n",
       "           ax_f      ay_f      az_f        acc      jerk  \n",
       "6267  10.051521  0.465580 -0.175396  10.063826  0.486787  \n",
       "6268  10.054876  0.492001 -0.189980  10.068699  0.426291  \n",
       "6269  10.057725  0.516986 -0.204504  10.073080  0.366575  \n",
       "6270  10.060076  0.540607 -0.218956  10.076970  0.205269  \n",
       "6271  10.061938  0.562936 -0.233327  10.080374  0.166991  \n",
       "\n",
       "[5 rows x 21 columns]"
      ]
     },
     "execution_count": 6,
     "metadata": {},
     "output_type": "execute_result"
    }
   ],
   "source": [
    "# preview rr data\n",
    "rr_data.head()"
   ]
  },
  {
   "cell_type": "code",
   "execution_count": 7,
   "metadata": {
    "scrolled": true
   },
   "outputs": [
    {
     "data": {
      "text/html": [
       "<div>\n",
       "<style scoped>\n",
       "    .dataframe tbody tr th:only-of-type {\n",
       "        vertical-align: middle;\n",
       "    }\n",
       "\n",
       "    .dataframe tbody tr th {\n",
       "        vertical-align: top;\n",
       "    }\n",
       "\n",
       "    .dataframe thead th {\n",
       "        text-align: right;\n",
       "    }\n",
       "</style>\n",
       "<table border=\"1\" class=\"dataframe\">\n",
       "  <thead>\n",
       "    <tr style=\"text-align: right;\">\n",
       "      <th></th>\n",
       "      <th>ID</th>\n",
       "      <th>index_runner</th>\n",
       "      <th>side_runner</th>\n",
       "      <th>square_runner</th>\n",
       "      <th>python_tijd</th>\n",
       "      <th>spel</th>\n",
       "      <th>round</th>\n",
       "      <th>level</th>\n",
       "      <th>times_level_played_before</th>\n",
       "      <th>incorrect</th>\n",
       "      <th>mabc_percentile_score</th>\n",
       "      <th>mabc_binary_score</th>\n",
       "      <th>gender</th>\n",
       "      <th>age_precise</th>\n",
       "      <th>ax_f</th>\n",
       "      <th>ay_f</th>\n",
       "      <th>az_f</th>\n",
       "      <th>acc</th>\n",
       "      <th>jerk</th>\n",
       "    </tr>\n",
       "  </thead>\n",
       "  <tbody>\n",
       "    <tr>\n",
       "      <th>5959</th>\n",
       "      <td>101</td>\n",
       "      <td>4</td>\n",
       "      <td>0</td>\n",
       "      <td>4</td>\n",
       "      <td>1.497942e+09</td>\n",
       "      <td>M</td>\n",
       "      <td>level_A</td>\n",
       "      <td>0</td>\n",
       "      <td>1</td>\n",
       "      <td>0</td>\n",
       "      <td>37.0</td>\n",
       "      <td>0</td>\n",
       "      <td>1</td>\n",
       "      <td>7.009042</td>\n",
       "      <td>2.590391</td>\n",
       "      <td>-1.496124</td>\n",
       "      <td>-9.477220</td>\n",
       "      <td>9.938119</td>\n",
       "      <td>0.096884</td>\n",
       "    </tr>\n",
       "    <tr>\n",
       "      <th>5960</th>\n",
       "      <td>101</td>\n",
       "      <td>4</td>\n",
       "      <td>0</td>\n",
       "      <td>4</td>\n",
       "      <td>1.497942e+09</td>\n",
       "      <td>M</td>\n",
       "      <td>level_A</td>\n",
       "      <td>0</td>\n",
       "      <td>1</td>\n",
       "      <td>0</td>\n",
       "      <td>37.0</td>\n",
       "      <td>0</td>\n",
       "      <td>1</td>\n",
       "      <td>7.009042</td>\n",
       "      <td>2.562202</td>\n",
       "      <td>-1.482067</td>\n",
       "      <td>-9.485622</td>\n",
       "      <td>9.936721</td>\n",
       "      <td>0.086015</td>\n",
       "    </tr>\n",
       "    <tr>\n",
       "      <th>5961</th>\n",
       "      <td>101</td>\n",
       "      <td>4</td>\n",
       "      <td>0</td>\n",
       "      <td>4</td>\n",
       "      <td>1.497942e+09</td>\n",
       "      <td>M</td>\n",
       "      <td>level_A</td>\n",
       "      <td>0</td>\n",
       "      <td>1</td>\n",
       "      <td>0</td>\n",
       "      <td>37.0</td>\n",
       "      <td>0</td>\n",
       "      <td>1</td>\n",
       "      <td>7.009042</td>\n",
       "      <td>2.534205</td>\n",
       "      <td>-1.468358</td>\n",
       "      <td>-9.493919</td>\n",
       "      <td>9.935430</td>\n",
       "      <td>0.111047</td>\n",
       "    </tr>\n",
       "    <tr>\n",
       "      <th>5962</th>\n",
       "      <td>101</td>\n",
       "      <td>4</td>\n",
       "      <td>0</td>\n",
       "      <td>4</td>\n",
       "      <td>1.497942e+09</td>\n",
       "      <td>M</td>\n",
       "      <td>level_A</td>\n",
       "      <td>0</td>\n",
       "      <td>1</td>\n",
       "      <td>0</td>\n",
       "      <td>37.0</td>\n",
       "      <td>0</td>\n",
       "      <td>1</td>\n",
       "      <td>7.009042</td>\n",
       "      <td>2.506382</td>\n",
       "      <td>-1.455013</td>\n",
       "      <td>-9.502127</td>\n",
       "      <td>9.934255</td>\n",
       "      <td>0.091310</td>\n",
       "    </tr>\n",
       "    <tr>\n",
       "      <th>5963</th>\n",
       "      <td>101</td>\n",
       "      <td>4</td>\n",
       "      <td>0</td>\n",
       "      <td>4</td>\n",
       "      <td>1.497942e+09</td>\n",
       "      <td>M</td>\n",
       "      <td>level_A</td>\n",
       "      <td>0</td>\n",
       "      <td>1</td>\n",
       "      <td>0</td>\n",
       "      <td>37.0</td>\n",
       "      <td>0</td>\n",
       "      <td>1</td>\n",
       "      <td>7.009042</td>\n",
       "      <td>2.478715</td>\n",
       "      <td>-1.442047</td>\n",
       "      <td>-9.510264</td>\n",
       "      <td>9.933209</td>\n",
       "      <td>0.055894</td>\n",
       "    </tr>\n",
       "  </tbody>\n",
       "</table>\n",
       "</div>"
      ],
      "text/plain": [
       "       ID  index_runner  side_runner  square_runner   python_tijd spel  \\\n",
       "5959  101             4            0              4  1.497942e+09    M   \n",
       "5960  101             4            0              4  1.497942e+09    M   \n",
       "5961  101             4            0              4  1.497942e+09    M   \n",
       "5962  101             4            0              4  1.497942e+09    M   \n",
       "5963  101             4            0              4  1.497942e+09    M   \n",
       "\n",
       "        round  level  times_level_played_before  incorrect  \\\n",
       "5959  level_A      0                          1          0   \n",
       "5960  level_A      0                          1          0   \n",
       "5961  level_A      0                          1          0   \n",
       "5962  level_A      0                          1          0   \n",
       "5963  level_A      0                          1          0   \n",
       "\n",
       "      mabc_percentile_score  mabc_binary_score  gender  age_precise      ax_f  \\\n",
       "5959                   37.0                  0       1     7.009042  2.590391   \n",
       "5960                   37.0                  0       1     7.009042  2.562202   \n",
       "5961                   37.0                  0       1     7.009042  2.534205   \n",
       "5962                   37.0                  0       1     7.009042  2.506382   \n",
       "5963                   37.0                  0       1     7.009042  2.478715   \n",
       "\n",
       "          ay_f      az_f       acc      jerk  \n",
       "5959 -1.496124 -9.477220  9.938119  0.096884  \n",
       "5960 -1.482067 -9.485622  9.936721  0.086015  \n",
       "5961 -1.468358 -9.493919  9.935430  0.111047  \n",
       "5962 -1.455013 -9.502127  9.934255  0.091310  \n",
       "5963 -1.442047 -9.510264  9.933209  0.055894  "
      ]
     },
     "execution_count": 7,
     "metadata": {},
     "output_type": "execute_result"
    }
   ],
   "source": [
    "# preview m data\n",
    "m_data.head()"
   ]
  },
  {
   "cell_type": "code",
   "execution_count": 8,
   "metadata": {},
   "outputs": [],
   "source": [
    "# returns values of dictionary in a list\n",
    "def dict_to_x_y(dictionary):\n",
    "    x_list = []\n",
    "    y_list = []\n",
    "    for key in dictionary:\n",
    "        x_list.append(dictionary[key][0])\n",
    "        y_list.append(dictionary[key][1])\n",
    "    return x_list, y_list"
   ]
  },
  {
   "cell_type": "code",
   "execution_count": 9,
   "metadata": {},
   "outputs": [
    {
     "data": {
      "text/plain": [
       "<matplotlib.legend.Legend at 0x1075b8710>"
      ]
     },
     "execution_count": 9,
     "metadata": {},
     "output_type": "execute_result"
    },
    {
     "data": {
      "image/png": "[encoded data removed]",
      "text/plain": [
       "<matplotlib.figure.Figure at 0x10759cd68>"
      ]
     },
     "metadata": {},
     "output_type": "display_data"
    }
   ],
   "source": [
    "# ID is unique per child\n",
    "# the higher the costheta score, the better the performance\n",
    "# mabc_percentile_score is the label associated with the motor skills, again the higher the better\n",
    "\n",
    "# create a dataframe containing this data\n",
    "subdata = rr_data[['ID', 'costheta', 'mabc_percentile_score']]\n",
    "\n",
    "# create a set of all unique children\n",
    "children_ids = set(subdata['ID'])\n",
    "\n",
    "# create a dictionary containing children id's as key and a tuple containing costheta and mabc_percentile as val\n",
    "subdata_dictionary = {}\n",
    "for child_id in children_ids:\n",
    "    avg_ct = subdata.loc[subdata['ID'] == child_id]['costheta'].mean()\n",
    "    mabc_perc = subdata.loc[subdata['ID'] == child_id]['mabc_percentile_score'].mean()\n",
    "    subdata_dictionary[child_id] = (avg_ct, mabc_perc)\n",
    "#     print(\"Child: {} has an avarage costheta score of {} and an MABC percentile equal to {}.\".format(child_id, round(avg_ct, 5), round(mabc_perc, 3)))\n",
    "\n",
    "avg_ct, mabc = dict_to_x_y(subdata_dictionary)\n",
    "slope, intercept, r_value, p_value, std_err = stats.linregress(avg_ct, mabc)\n",
    "avg_ct_slope = [i * slope for i in avg_ct]\n",
    "\n",
    "# scatter plot with mabc\n",
    "plt.scatter(avg_ct, mabc, label='Participant')\n",
    "plt.plot(avg_ct, intercept + avg_ct_slope, 'r', label='Regression line')\n",
    "plt.xlabel(\"Average cosinetheta score\")\n",
    "plt.ylabel(\"MABC percentile\")\n",
    "plt.legend()\n"
   ]
  },
  {
   "cell_type": "code",
   "execution_count": 10,
   "metadata": {},
   "outputs": [
    {
     "data": {
      "text/plain": [
       "<matplotlib.legend.Legend at 0x108ada3c8>"
      ]
     },
     "execution_count": 10,
     "metadata": {},
     "output_type": "execute_result"
    },
    {
     "data": {
      "image/png": "[encoded data removed]",
      "text/plain": [
       "<matplotlib.figure.Figure at 0x107587f98>"
      ]
     },
     "metadata": {},
     "output_type": "display_data"
    }
   ],
   "source": [
    "# ID is unique per child\n",
    "# the higher the costheta score, the better the performance\n",
    "# mabc_percentile_score is the label associated with the motor skills, again the higher the better\n",
    "\n",
    "# create a dataframe containing this data\n",
    "subdata_jerk = rr_data[['ID', 'jerk', 'mabc_percentile_score']]\n",
    "\n",
    "# create a dictionary containing children id's as key and a tuple containing costheta and mabc_percentile as val\n",
    "subdata_jerk_dictionary = {}\n",
    "for child_id in children_ids:\n",
    "    avg_jerk = subdata_jerk.loc[subdata['ID'] == child_id]['jerk'].mean()\n",
    "    mabc_perc = subdata_jerk.loc[subdata['ID'] == child_id]['mabc_percentile_score'].mean()\n",
    "    subdata_jerk_dictionary[child_id] = (avg_jerk, mabc_perc)\n",
    "#     print(\"Child: {} has an avarage costheta score of {} and an MABC percentile equal to {}.\".format(child_id, round(avg_ct, 5), round(mabc_perc, 3)))\n",
    "\n",
    "avg_jerk, mabc = dict_to_x_y(subdata_jerk_dictionary)\n",
    "slope, intercept, r_value, p_value, std_err = stats.linregress(avg_jerk, mabc)\n",
    "avg_jerk_slope = [i * slope for i in avg_jerk]\n",
    "\n",
    "# scatter plot with mabc\n",
    "plt.scatter(avg_jerk, mabc, label='Participant')\n",
    "plt.plot(avg_jerk, intercept + avg_jerk_slope, 'r', label='Regression line')\n",
    "plt.xlabel(\"Average jerk score\")\n",
    "plt.ylabel(\"MABC percentile\")\n",
    "plt.legend()\n"
   ]
  },
  {
   "cell_type": "markdown",
   "metadata": {},
   "source": [
    "## Tijd fixen"
   ]
  },
  {
   "cell_type": "code",
   "execution_count": 11,
   "metadata": {},
   "outputs": [],
   "source": [
    "rr_data_time = rr_data\n",
    "\n",
    "times = []\n",
    "for child_id in children_ids:\n",
    "    child_frame = rr_data.loc[subdata['ID'] == child_id]\n",
    "    mintime = child_frame['python_tijd'].min()\n",
    "    fixedtime = child_frame['python_tijd'] - mintime\n",
    "    times.append(fixedtime.values)\n",
    "    \n",
    "    \n",
    "realtimes = [item for sublist in times for item in sublist]\n",
    "\n",
    "rr_data_time.insert(4, 'real_time', realtimes)\n"
   ]
  },
  {
   "cell_type": "code",
   "execution_count": 14,
   "metadata": {},
   "outputs": [
    {
     "name": "stdout",
     "output_type": "stream",
     "text": [
      "done\n"
     ]
    }
   ],
   "source": [
    "rr_data_time.head(100)\n"
   ]
  },
  {
   "cell_type": "markdown",
   "metadata": {},
   "source": [
    "# Easy diagrams for report"
   ]
  },
  {
   "cell_type": "code",
   "execution_count": 15,
   "metadata": {},
   "outputs": [
    {
     "data": {
      "image/png": "[encoded data removed]",
      "text/plain": [
       "<matplotlib.figure.Figure at 0x1075752e8>"
      ]
     },
     "metadata": {},
     "output_type": "display_data"
    }
   ],
   "source": [
    "# BAR CHART average cosinus_theta / permutation\n",
    "permutations = sorted(rr_data['permutation'].unique())\n",
    "\n",
    "means = []\n",
    "for p in permutations:\n",
    "    thispermutation = rr_data.loc[rr_data['permutation'] == p]\n",
    "    means.append(thispermutation['costheta'].mean())\n",
    "    \n",
    "    \n",
    "plt.bar(permutations, means, log=True)\n",
    "plt.xlabel('Permutation')\n",
    "plt.ylabel('cosinus theta')\n",
    "plt.title('average cosinus_theta / permutation')\n",
    "plt.savefig('plots/cosine_permutation.png', dpi=100)\n",
    "plt.show()"
   ]
  },
  {
   "cell_type": "code",
   "execution_count": 18,
   "metadata": {},
   "outputs": [
    {
     "name": "stdout",
     "output_type": "stream",
     "text": [
      "The average age of all participants is 7.829102126212949\n"
     ]
    }
   ],
   "source": [
    "## get dataframe with only IDs for Average age\n",
    "ids = rr_data['ID'].unique()\n",
    "rr_data_id = rr_data.groupby('ID').first()\n",
    "ages = list(rr_data_id['age_precise'])\n",
    "print('The average age of all participants is {}'.format(np.mean(ages)))\n",
    "\n",
    "percs = list(rr_data_id['mabc_percentile_score'])"
   ]
  },
  {
   "cell_type": "code",
   "execution_count": 19,
   "metadata": {},
   "outputs": [
    {
     "data": {
      "image/png": "[encoded data removed]",
      "text/plain": [
       "<matplotlib.figure.Figure at 0x1a24dec080>"
      ]
     },
     "metadata": {},
     "output_type": "display_data"
    },
    {
     "data": {
      "image/png": "[encoded data removed]",
      "text/plain": [
       "<matplotlib.figure.Figure at 0x1a24cfc400>"
      ]
     },
     "metadata": {},
     "output_type": "display_data"
    }
   ],
   "source": [
    "# scatter plot ages\n",
    "ages_low = []\n",
    "ages_high = []\n",
    "for age, perc in zip(ages, percs):\n",
    "    if perc <= 17:\n",
    "        ages_low.append(age)\n",
    "        plt.scatter(age, perc, color='red')\n",
    "    else:\n",
    "        ages_high.append(age)\n",
    "        plt.scatter(age, perc, color='blue')\n",
    " \n",
    "plt.title('Age and Percentile score')\n",
    "plt.rcParams[\"figure.figsize\"] = (5.5, 12.5)\n",
    "# uncomment for save\n",
    "# plt.savefig('plots/scatter_ages.png', dpi=100)\n",
    "plt.show()\n",
    "    \n",
    "# boxplot ages\n",
    "my_dict = {'Low ABC': ages_low, 'High ABC': ages_high}\n",
    "\n",
    "fig, ax = plt.subplots()\n",
    "plt.title('Age distribution')\n",
    "ax.boxplot(my_dict.values())\n",
    "ax.set_xticklabels(my_dict.keys())\n",
    "fig.set_size_inches(14.5, 8.5)\n",
    "# uncomment for save\n",
    "# fig.savefig('plots/age_percentile.png', dpi=100)\n",
    "\n"
   ]
  },
  {
   "cell_type": "code",
   "execution_count": 20,
   "metadata": {},
   "outputs": [
    {
     "data": {
      "text/plain": [
       "Text(0.5,1,'Gender distribution')"
      ]
     },
     "execution_count": 20,
     "metadata": {},
     "output_type": "execute_result"
    },
    {
     "data": {
      "image/png": "[encoded data removed]",
      "text/plain": [
       "<matplotlib.figure.Figure at 0x1077852b0>"
      ]
     },
     "metadata": {},
     "output_type": "display_data"
    }
   ],
   "source": [
    "# pie chart of genders\n",
    "genderlist = list(rr_data_id.groupby('gender').size())\n",
    "labels = 'Male', 'Female'\n",
    "plt.rcParams[\"figure.figsize\"] = (5, 5)\n",
    "fig1, ax1 = plt.subplots()\n",
    "ax1.pie(genderlist, labels=labels, startangle=90, autopct='%1.1f%%')\n",
    "ax1.axis('equal')\n",
    "plt.title('Gender distribution')\n",
    "# uncomment for save:\n",
    "# fig1.savefig('plots/gender_pie.png', dpi=100)\n",
    "\n"
   ]
  },
  {
   "cell_type": "code",
   "execution_count": 21,
   "metadata": {},
   "outputs": [
    {
     "data": {
      "text/plain": [
       "Text(0.5,1,'mABC test result')"
      ]
     },
     "execution_count": 21,
     "metadata": {},
     "output_type": "execute_result"
    },
    {
     "data": {
      "image/png": "[encoded data removed]",
      "text/plain": [
       "<matplotlib.figure.Figure at 0x1a0bd8d128>"
      ]
     },
     "metadata": {},
     "output_type": "display_data"
    }
   ],
   "source": [
    "# pie chart of MABC score\n",
    "abclist = list(rr_data_id.groupby('mabc_binary_score').size())\n",
    "labels = 'Regular skill development', 'Low skill development'\n",
    "plt.rcParams[\"figure.figsize\"] = (5, 5)\n",
    "fig1, ax1 = plt.subplots()\n",
    "ax1.pie(abclist, labels=labels, startangle=90, autopct='%1.1f%%')\n",
    "ax1.axis('equal')\n",
    "plt.title('mABC test result')\n",
    "# uncomment for save:\n",
    "# fig1.savefig('plots/mABC_pie.png', dpi=100)"
   ]
  },
  {
   "cell_type": "code",
   "execution_count": null,
   "metadata": {},
   "outputs": [],
   "source": []
  },
  {
   "cell_type": "code",
   "execution_count": null,
   "metadata": {},
   "outputs": [],
   "source": []
  }
 ],
 "metadata": {
  "kernelspec": {
   "display_name": "Python 3",
   "language": "python",
   "name": "python3"
  },
  "language_info": {
   "codemirror_mode": {
    "name": "ipython",
    "version": 3
   },
   "file_extension": ".py",
   "mimetype": "text/x-python",
   "name": "python",
   "nbconvert_exporter": "python",
   "pygments_lexer": "ipython3",
   "version": "3.6.4"
  }
 },
 "nbformat": 4,
 "nbformat_minor": 2
}
