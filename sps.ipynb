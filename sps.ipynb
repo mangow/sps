{
 "cells": [
  {
   "cell_type": "markdown",
   "metadata": {},
   "source": [
    "# <font color='blue' size=20>SPS Jupyter Notebook v1.0</font>"
   ]
  },
  {
   "cell_type": "markdown",
   "metadata": {},
   "source": [
    "#  <font color='red'>GENERAL SETUP</font>"
   ]
  },
  {
   "cell_type": "markdown",
   "metadata": {},
   "source": [
    "#### Loading Libraries"
   ]
  },
  {
   "cell_type": "code",
   "execution_count": 1,
   "metadata": {},
   "outputs": [],
   "source": [
    "import pandas as pd \n",
    "import matplotlib.pyplot as plt\n",
    "import numpy as np\n",
    "from scipy import stats\n",
    "import random\n",
    "from numpy.polynomial import Polynomial\n",
    "\n",
    "from sklearn import preprocessing\n",
    "from IPython.display import clear_output, display\n",
    "\n",
    "from sklearn import svm, datasets\n",
    "from sklearn.model_selection import train_test_split\n",
    "import numpy as np\n",
    "\n",
    "from sklearn.neural_network import MLPClassifier\n",
    "\n",
    "from sklearn.model_selection import train_test_split\n",
    "from sklearn.metrics import accuracy_score\n",
    "from sklearn.metrics import confusion_matrix"
   ]
  },
  {
   "cell_type": "markdown",
   "metadata": {},
   "source": [
    "#### Functions"
   ]
  },
  {
   "cell_type": "code",
   "execution_count": 2,
   "metadata": {},
   "outputs": [],
   "source": [
    "# Function of Serge\n",
    "# Transforms a dictionary to two X, Y list\n",
    "# Useful for dictionaries with kids as key and tuple of values needed\n",
    "def dict_to_x_y(dictionary):\n",
    "    x_list = []\n",
    "    y_list = []\n",
    "    for key in dictionary:\n",
    "        x_list.append(dictionary[key][0])\n",
    "        y_list.append(dictionary[key][1])\n",
    "    return x_list, y_list\n",
    "\n",
    "# Function of Serge\n",
    "# Useful for neural network, transforms 5 to [0,0,0,0,0,1,0,0],\n",
    "# Not perfect yet\n",
    "# input i = 5, maxi = 7.\n",
    "def mabc_to_arr(i, maxi):\n",
    "    lb = preprocessing.LabelBinarizer()\n",
    "    lb.fit(list(range(0, maxi)))\n",
    "    return (lb.transform([i])[0])\n"
   ]
  },
  {
   "cell_type": "markdown",
   "metadata": {},
   "source": [
    "#### Importing Data"
   ]
  },
  {
   "cell_type": "code",
   "execution_count": 3,
   "metadata": {},
   "outputs": [],
   "source": [
    "rr_data = pd.DataFrame(pd.read_csv(\"data/data_RR_merged_20190108.csv\"))\n",
    "m_data = pd.DataFrame(pd.read_csv(\"data/data_M_merged_20190108.csv\"))"
   ]
  },
  {
   "cell_type": "markdown",
   "metadata": {},
   "source": [
    "#### Deleting warmup from rr and m"
   ]
  },
  {
   "cell_type": "code",
   "execution_count": 4,
   "metadata": {},
   "outputs": [],
   "source": [
    "# get indices with warmup rounds\n",
    "rr_indexNames = rr_data[rr_data['round'] == 'warmup'].index\n",
    "# delete these row indexes from the frame\n",
    "rr_data.drop(rr_indexNames, inplace=True)\n",
    "\n",
    "# get indices with warmup rounds\n",
    "m_indexNames = m_data[m_data['round'] == 'warmup'].index\n",
    "# delete these row indexes from the frame\n",
    "m_data.drop(m_indexNames, inplace=True)"
   ]
  },
  {
   "cell_type": "markdown",
   "metadata": {},
   "source": [
    "#### Previewing data"
   ]
  },
  {
   "cell_type": "code",
   "execution_count": 5,
   "metadata": {},
   "outputs": [
    {
     "data": {
      "text/html": [
       "<div>\n",
       "<style scoped>\n",
       "    .dataframe tbody tr th:only-of-type {\n",
       "        vertical-align: middle;\n",
       "    }\n",
       "\n",
       "    .dataframe tbody tr th {\n",
       "        vertical-align: top;\n",
       "    }\n",
       "\n",
       "    .dataframe thead th {\n",
       "        text-align: right;\n",
       "    }\n",
       "</style>\n",
       "<table border=\"1\" class=\"dataframe\">\n",
       "  <thead>\n",
       "    <tr style=\"text-align: right;\">\n",
       "      <th></th>\n",
       "      <th>ID</th>\n",
       "      <th>index_runner</th>\n",
       "      <th>side_runner</th>\n",
       "      <th>square_runner</th>\n",
       "      <th>python_tijd</th>\n",
       "      <th>spel</th>\n",
       "      <th>permutation</th>\n",
       "      <th>round</th>\n",
       "      <th>level</th>\n",
       "      <th>times_level_played_before</th>\n",
       "      <th>...</th>\n",
       "      <th>costheta</th>\n",
       "      <th>mabc_percentile_score</th>\n",
       "      <th>mabc_binary_score</th>\n",
       "      <th>gender</th>\n",
       "      <th>age_precise</th>\n",
       "      <th>ax_f</th>\n",
       "      <th>ay_f</th>\n",
       "      <th>az_f</th>\n",
       "      <th>acc</th>\n",
       "      <th>jerk</th>\n",
       "    </tr>\n",
       "  </thead>\n",
       "  <tbody>\n",
       "    <tr>\n",
       "      <th>6267</th>\n",
       "      <td>101</td>\n",
       "      <td>23</td>\n",
       "      <td>2</td>\n",
       "      <td>5</td>\n",
       "      <td>1.497942e+09</td>\n",
       "      <td>RR</td>\n",
       "      <td>1</td>\n",
       "      <td>level_A</td>\n",
       "      <td>0</td>\n",
       "      <td>1</td>\n",
       "      <td>...</td>\n",
       "      <td>0.892647</td>\n",
       "      <td>37.0</td>\n",
       "      <td>0</td>\n",
       "      <td>1</td>\n",
       "      <td>7.009042</td>\n",
       "      <td>10.051521</td>\n",
       "      <td>0.465580</td>\n",
       "      <td>-0.175396</td>\n",
       "      <td>10.063826</td>\n",
       "      <td>0.486787</td>\n",
       "    </tr>\n",
       "    <tr>\n",
       "      <th>6268</th>\n",
       "      <td>101</td>\n",
       "      <td>23</td>\n",
       "      <td>2</td>\n",
       "      <td>5</td>\n",
       "      <td>1.497942e+09</td>\n",
       "      <td>RR</td>\n",
       "      <td>1</td>\n",
       "      <td>level_A</td>\n",
       "      <td>0</td>\n",
       "      <td>1</td>\n",
       "      <td>...</td>\n",
       "      <td>0.892970</td>\n",
       "      <td>37.0</td>\n",
       "      <td>0</td>\n",
       "      <td>1</td>\n",
       "      <td>7.009042</td>\n",
       "      <td>10.054876</td>\n",
       "      <td>0.492001</td>\n",
       "      <td>-0.189980</td>\n",
       "      <td>10.068699</td>\n",
       "      <td>0.426291</td>\n",
       "    </tr>\n",
       "    <tr>\n",
       "      <th>6269</th>\n",
       "      <td>101</td>\n",
       "      <td>23</td>\n",
       "      <td>2</td>\n",
       "      <td>5</td>\n",
       "      <td>1.497942e+09</td>\n",
       "      <td>RR</td>\n",
       "      <td>1</td>\n",
       "      <td>level_A</td>\n",
       "      <td>0</td>\n",
       "      <td>1</td>\n",
       "      <td>...</td>\n",
       "      <td>0.895913</td>\n",
       "      <td>37.0</td>\n",
       "      <td>0</td>\n",
       "      <td>1</td>\n",
       "      <td>7.009042</td>\n",
       "      <td>10.057725</td>\n",
       "      <td>0.516986</td>\n",
       "      <td>-0.204504</td>\n",
       "      <td>10.073080</td>\n",
       "      <td>0.366575</td>\n",
       "    </tr>\n",
       "    <tr>\n",
       "      <th>6270</th>\n",
       "      <td>101</td>\n",
       "      <td>23</td>\n",
       "      <td>2</td>\n",
       "      <td>5</td>\n",
       "      <td>1.497942e+09</td>\n",
       "      <td>RR</td>\n",
       "      <td>1</td>\n",
       "      <td>level_A</td>\n",
       "      <td>0</td>\n",
       "      <td>1</td>\n",
       "      <td>...</td>\n",
       "      <td>0.898400</td>\n",
       "      <td>37.0</td>\n",
       "      <td>0</td>\n",
       "      <td>1</td>\n",
       "      <td>7.009042</td>\n",
       "      <td>10.060076</td>\n",
       "      <td>0.540607</td>\n",
       "      <td>-0.218956</td>\n",
       "      <td>10.076970</td>\n",
       "      <td>0.205269</td>\n",
       "    </tr>\n",
       "    <tr>\n",
       "      <th>6271</th>\n",
       "      <td>101</td>\n",
       "      <td>23</td>\n",
       "      <td>2</td>\n",
       "      <td>5</td>\n",
       "      <td>1.497942e+09</td>\n",
       "      <td>RR</td>\n",
       "      <td>1</td>\n",
       "      <td>level_A</td>\n",
       "      <td>0</td>\n",
       "      <td>1</td>\n",
       "      <td>...</td>\n",
       "      <td>0.897208</td>\n",
       "      <td>37.0</td>\n",
       "      <td>0</td>\n",
       "      <td>1</td>\n",
       "      <td>7.009042</td>\n",
       "      <td>10.061938</td>\n",
       "      <td>0.562936</td>\n",
       "      <td>-0.233327</td>\n",
       "      <td>10.080374</td>\n",
       "      <td>0.166991</td>\n",
       "    </tr>\n",
       "  </tbody>\n",
       "</table>\n",
       "<p>5 rows × 21 columns</p>\n",
       "</div>"
      ],
      "text/plain": [
       "       ID  index_runner  side_runner  square_runner   python_tijd spel  \\\n",
       "6267  101            23            2              5  1.497942e+09   RR   \n",
       "6268  101            23            2              5  1.497942e+09   RR   \n",
       "6269  101            23            2              5  1.497942e+09   RR   \n",
       "6270  101            23            2              5  1.497942e+09   RR   \n",
       "6271  101            23            2              5  1.497942e+09   RR   \n",
       "\n",
       "      permutation    round  level  times_level_played_before    ...     \\\n",
       "6267            1  level_A      0                          1    ...      \n",
       "6268            1  level_A      0                          1    ...      \n",
       "6269            1  level_A      0                          1    ...      \n",
       "6270            1  level_A      0                          1    ...      \n",
       "6271            1  level_A      0                          1    ...      \n",
       "\n",
       "      costheta  mabc_percentile_score  mabc_binary_score  gender  age_precise  \\\n",
       "6267  0.892647                   37.0                  0       1     7.009042   \n",
       "6268  0.892970                   37.0                  0       1     7.009042   \n",
       "6269  0.895913                   37.0                  0       1     7.009042   \n",
       "6270  0.898400                   37.0                  0       1     7.009042   \n",
       "6271  0.897208                   37.0                  0       1     7.009042   \n",
       "\n",
       "           ax_f      ay_f      az_f        acc      jerk  \n",
       "6267  10.051521  0.465580 -0.175396  10.063826  0.486787  \n",
       "6268  10.054876  0.492001 -0.189980  10.068699  0.426291  \n",
       "6269  10.057725  0.516986 -0.204504  10.073080  0.366575  \n",
       "6270  10.060076  0.540607 -0.218956  10.076970  0.205269  \n",
       "6271  10.061938  0.562936 -0.233327  10.080374  0.166991  \n",
       "\n",
       "[5 rows x 21 columns]"
      ]
     },
     "execution_count": 5,
     "metadata": {},
     "output_type": "execute_result"
    }
   ],
   "source": [
    "rr_data.head()"
   ]
  },
  {
   "cell_type": "code",
   "execution_count": 6,
   "metadata": {
    "scrolled": true
   },
   "outputs": [
    {
     "data": {
      "text/html": [
       "<div>\n",
       "<style scoped>\n",
       "    .dataframe tbody tr th:only-of-type {\n",
       "        vertical-align: middle;\n",
       "    }\n",
       "\n",
       "    .dataframe tbody tr th {\n",
       "        vertical-align: top;\n",
       "    }\n",
       "\n",
       "    .dataframe thead th {\n",
       "        text-align: right;\n",
       "    }\n",
       "</style>\n",
       "<table border=\"1\" class=\"dataframe\">\n",
       "  <thead>\n",
       "    <tr style=\"text-align: right;\">\n",
       "      <th></th>\n",
       "      <th>ID</th>\n",
       "      <th>index_runner</th>\n",
       "      <th>side_runner</th>\n",
       "      <th>square_runner</th>\n",
       "      <th>python_tijd</th>\n",
       "      <th>spel</th>\n",
       "      <th>round</th>\n",
       "      <th>level</th>\n",
       "      <th>times_level_played_before</th>\n",
       "      <th>incorrect</th>\n",
       "      <th>mabc_percentile_score</th>\n",
       "      <th>mabc_binary_score</th>\n",
       "      <th>gender</th>\n",
       "      <th>age_precise</th>\n",
       "      <th>ax_f</th>\n",
       "      <th>ay_f</th>\n",
       "      <th>az_f</th>\n",
       "      <th>acc</th>\n",
       "      <th>jerk</th>\n",
       "    </tr>\n",
       "  </thead>\n",
       "  <tbody>\n",
       "    <tr>\n",
       "      <th>5959</th>\n",
       "      <td>101</td>\n",
       "      <td>4</td>\n",
       "      <td>0</td>\n",
       "      <td>4</td>\n",
       "      <td>1.497942e+09</td>\n",
       "      <td>M</td>\n",
       "      <td>level_A</td>\n",
       "      <td>0</td>\n",
       "      <td>1</td>\n",
       "      <td>0</td>\n",
       "      <td>37.0</td>\n",
       "      <td>0</td>\n",
       "      <td>1</td>\n",
       "      <td>7.009042</td>\n",
       "      <td>2.590391</td>\n",
       "      <td>-1.496124</td>\n",
       "      <td>-9.477220</td>\n",
       "      <td>9.938119</td>\n",
       "      <td>0.096884</td>\n",
       "    </tr>\n",
       "    <tr>\n",
       "      <th>5960</th>\n",
       "      <td>101</td>\n",
       "      <td>4</td>\n",
       "      <td>0</td>\n",
       "      <td>4</td>\n",
       "      <td>1.497942e+09</td>\n",
       "      <td>M</td>\n",
       "      <td>level_A</td>\n",
       "      <td>0</td>\n",
       "      <td>1</td>\n",
       "      <td>0</td>\n",
       "      <td>37.0</td>\n",
       "      <td>0</td>\n",
       "      <td>1</td>\n",
       "      <td>7.009042</td>\n",
       "      <td>2.562202</td>\n",
       "      <td>-1.482067</td>\n",
       "      <td>-9.485622</td>\n",
       "      <td>9.936721</td>\n",
       "      <td>0.086015</td>\n",
       "    </tr>\n",
       "    <tr>\n",
       "      <th>5961</th>\n",
       "      <td>101</td>\n",
       "      <td>4</td>\n",
       "      <td>0</td>\n",
       "      <td>4</td>\n",
       "      <td>1.497942e+09</td>\n",
       "      <td>M</td>\n",
       "      <td>level_A</td>\n",
       "      <td>0</td>\n",
       "      <td>1</td>\n",
       "      <td>0</td>\n",
       "      <td>37.0</td>\n",
       "      <td>0</td>\n",
       "      <td>1</td>\n",
       "      <td>7.009042</td>\n",
       "      <td>2.534205</td>\n",
       "      <td>-1.468358</td>\n",
       "      <td>-9.493919</td>\n",
       "      <td>9.935430</td>\n",
       "      <td>0.111047</td>\n",
       "    </tr>\n",
       "    <tr>\n",
       "      <th>5962</th>\n",
       "      <td>101</td>\n",
       "      <td>4</td>\n",
       "      <td>0</td>\n",
       "      <td>4</td>\n",
       "      <td>1.497942e+09</td>\n",
       "      <td>M</td>\n",
       "      <td>level_A</td>\n",
       "      <td>0</td>\n",
       "      <td>1</td>\n",
       "      <td>0</td>\n",
       "      <td>37.0</td>\n",
       "      <td>0</td>\n",
       "      <td>1</td>\n",
       "      <td>7.009042</td>\n",
       "      <td>2.506382</td>\n",
       "      <td>-1.455013</td>\n",
       "      <td>-9.502127</td>\n",
       "      <td>9.934255</td>\n",
       "      <td>0.091310</td>\n",
       "    </tr>\n",
       "    <tr>\n",
       "      <th>5963</th>\n",
       "      <td>101</td>\n",
       "      <td>4</td>\n",
       "      <td>0</td>\n",
       "      <td>4</td>\n",
       "      <td>1.497942e+09</td>\n",
       "      <td>M</td>\n",
       "      <td>level_A</td>\n",
       "      <td>0</td>\n",
       "      <td>1</td>\n",
       "      <td>0</td>\n",
       "      <td>37.0</td>\n",
       "      <td>0</td>\n",
       "      <td>1</td>\n",
       "      <td>7.009042</td>\n",
       "      <td>2.478715</td>\n",
       "      <td>-1.442047</td>\n",
       "      <td>-9.510264</td>\n",
       "      <td>9.933209</td>\n",
       "      <td>0.055894</td>\n",
       "    </tr>\n",
       "  </tbody>\n",
       "</table>\n",
       "</div>"
      ],
      "text/plain": [
       "       ID  index_runner  side_runner  square_runner   python_tijd spel  \\\n",
       "5959  101             4            0              4  1.497942e+09    M   \n",
       "5960  101             4            0              4  1.497942e+09    M   \n",
       "5961  101             4            0              4  1.497942e+09    M   \n",
       "5962  101             4            0              4  1.497942e+09    M   \n",
       "5963  101             4            0              4  1.497942e+09    M   \n",
       "\n",
       "        round  level  times_level_played_before  incorrect  \\\n",
       "5959  level_A      0                          1          0   \n",
       "5960  level_A      0                          1          0   \n",
       "5961  level_A      0                          1          0   \n",
       "5962  level_A      0                          1          0   \n",
       "5963  level_A      0                          1          0   \n",
       "\n",
       "      mabc_percentile_score  mabc_binary_score  gender  age_precise      ax_f  \\\n",
       "5959                   37.0                  0       1     7.009042  2.590391   \n",
       "5960                   37.0                  0       1     7.009042  2.562202   \n",
       "5961                   37.0                  0       1     7.009042  2.534205   \n",
       "5962                   37.0                  0       1     7.009042  2.506382   \n",
       "5963                   37.0                  0       1     7.009042  2.478715   \n",
       "\n",
       "          ay_f      az_f       acc      jerk  \n",
       "5959 -1.496124 -9.477220  9.938119  0.096884  \n",
       "5960 -1.482067 -9.485622  9.936721  0.086015  \n",
       "5961 -1.468358 -9.493919  9.935430  0.111047  \n",
       "5962 -1.455013 -9.502127  9.934255  0.091310  \n",
       "5963 -1.442047 -9.510264  9.933209  0.055894  "
      ]
     },
     "execution_count": 6,
     "metadata": {},
     "output_type": "execute_result"
    }
   ],
   "source": [
    "m_data.head()"
   ]
  },
  {
   "cell_type": "markdown",
   "metadata": {},
   "source": [
    "#  <font color='red'>CRAFTED DATAFRAMES</font>"
   ]
  },
  {
   "cell_type": "markdown",
   "metadata": {},
   "source": [
    "#### rr_data_time contains 'real_time' which resets per child and runs from 0 to 240.\n",
    "#### python_tijd was dropped too."
   ]
  },
  {
   "cell_type": "code",
   "execution_count": 7,
   "metadata": {},
   "outputs": [
    {
     "name": "stdout",
     "output_type": "stream",
     "text": [
      "95  percent loading\n"
     ]
    }
   ],
   "source": [
    "rr_data_time = rr_data\n",
    "\n",
    "subdata = rr_data[['ID', 'costheta', 'mabc_percentile_score']]\n",
    "children_ids = set(subdata['ID'])\n",
    "\n",
    "times = []\n",
    "\n",
    "for percent, child_id in enumerate(children_ids):\n",
    "    child_frame = rr_data.loc[subdata['ID'] == child_id]\n",
    "    mintime = child_frame['python_tijd'].min()\n",
    "    fixedtime = child_frame['python_tijd'] - mintime\n",
    "    times.append(fixedtime.values)\n",
    "    \n",
    "    # so you know how long it takes\n",
    "    clear_output(wait=True)\n",
    "    print(percent, \" percent loading\")\n",
    "    \n",
    "realtimes = [item for sublist in times for item in sublist]\n",
    "rr_data_time.insert(4, 'real_time', realtimes)\n",
    "rr_data_time.drop(columns=['python_tijd'])\n",
    "clear_output(wait=True)"
   ]
  },
  {
   "cell_type": "markdown",
   "metadata": {},
   "source": [
    "#### rr_221100 contains 'time_resetted_per_round' which resets per child  per round.  <br> It also makes sure that the rows are ordered by level as follows (221100)"
   ]
  },
  {
   "cell_type": "code",
   "execution_count": 8,
   "metadata": {},
   "outputs": [
    {
     "name": "stdout",
     "output_type": "stream",
     "text": [
      "95  percent loading\n"
     ]
    }
   ],
   "source": [
    "rr_221100 = pd.DataFrame()\n",
    "\n",
    "newtimelist = []\n",
    "newlevellist = []\n",
    "\n",
    "for percent, child_id in enumerate(children_ids):\n",
    "    child_frame = rr_data_time.loc[rr_data_time['ID'] == child_id]\n",
    "\n",
    "    level_00_1 = child_frame.loc[(child_frame['snelheid'] == 0.4) & (child_frame['times_level_played_before'] == 1)]\n",
    "    level_00_2 = child_frame.loc[(child_frame['snelheid'] == 0.4) & (child_frame['times_level_played_before'] == 2)]\n",
    "    level_11_1 = child_frame.loc[(child_frame['snelheid'] == 0.6) & (child_frame['times_level_played_before'] == 1)]\n",
    "    level_11_2 = child_frame.loc[(child_frame['snelheid'] == 0.6) & (child_frame['times_level_played_before'] == 2)]\n",
    "    level_22_1 = child_frame.loc[(child_frame['snelheid'] == 0.8) & (child_frame['times_level_played_before'] == 1)]\n",
    "    level_22_2 = child_frame.loc[(child_frame['snelheid'] == 0.8) & (child_frame['times_level_played_before'] == 2)]\n",
    "\n",
    "    level_00 = list(level_00_1['real_time'] - level_00_1['real_time'].min()) + (list(level_00_2['real_time'] - level_00_2['real_time'].min()))\n",
    "    level_11 = list(level_11_1['real_time'] - level_11_1['real_time'].min()) + (list(level_11_2['real_time'] - level_11_2['real_time'].min()))\n",
    "    level_22 = list(level_22_1['real_time'] - level_22_1['real_time'].min()) + (list(level_22_2['real_time'] - level_22_2['real_time'].min()))\n",
    "\n",
    "    newtimelist += level_00 + level_11 + level_22\n",
    "    \n",
    "    rr_221100 = rr_221100.append(level_00_1, ignore_index = True)\n",
    "    rr_221100 = rr_221100.append(level_00_2, ignore_index = True)\n",
    "    rr_221100 = rr_221100.append(level_11_1, ignore_index = True)\n",
    "    rr_221100 = rr_221100.append(level_11_2, ignore_index = True)\n",
    "    rr_221100 = rr_221100.append(level_22_1, ignore_index = True)\n",
    "    rr_221100 = rr_221100.append(level_22_2, ignore_index = True)\n",
    "    \n",
    "    # so you know how long it takes\n",
    "    clear_output(wait=True)\n",
    "    print(percent, \" percent loading\")\n",
    "    \n",
    "rr_221100.insert(4, 'time_resetted_each_round', newtimelist) \n"
   ]
  },
  {
   "cell_type": "markdown",
   "metadata": {},
   "source": [
    "#  <font color='red'>PLOTS</font>"
   ]
  },
  {
   "cell_type": "markdown",
   "metadata": {},
   "source": [
    "#### PLOT 1: Correlation between MABC and average costheta"
   ]
  },
  {
   "cell_type": "code",
   "execution_count": 9,
   "metadata": {},
   "outputs": [
    {
     "data": {
      "text/plain": [
       "<matplotlib.legend.Legend at 0x12fa6e4a8>"
      ]
     },
     "execution_count": 9,
     "metadata": {},
     "output_type": "execute_result"
    },
    {
     "data": {
      "image/png": "[encoded data removed]",
      "text/plain": [
       "<Figure size 432x288 with 1 Axes>"
      ]
     },
     "metadata": {
      "needs_background": "light"
     },
     "output_type": "display_data"
    }
   ],
   "source": [
    "# create a dataframe containing this data\n",
    "subdata = rr_data[['ID', 'costheta', 'mabc_percentile_score']]\n",
    "\n",
    "# create a set of all unique children\n",
    "children_ids = set(subdata['ID'])\n",
    "\n",
    "# create a dictionary containing children id's as key and a tuple containing costheta and mabc_percentile\n",
    "subdata_dictionary = {}\n",
    "for child_id in children_ids:\n",
    "    avg_ct = subdata.loc[subdata['ID'] == child_id]['costheta'].mean()\n",
    "    mabc_perc = subdata.loc[subdata['ID'] == child_id]['mabc_percentile_score'].mean()\n",
    "    subdata_dictionary[child_id] = (avg_ct, mabc_perc)\n",
    "\n",
    "avg_ct, mabc = dict_to_x_y(subdata_dictionary)\n",
    "\n",
    "# linear regression\n",
    "slope, intercept, r_value, p_value, std_err = stats.linregress(avg_ct, mabc)\n",
    "avg_ct_slope = [i * slope for i in avg_ct]\n",
    "\n",
    "# scatter plot with mabc\n",
    "plt.scatter(avg_ct, mabc, label='Participant')\n",
    "plt.plot(avg_ct, intercept + avg_ct_slope, 'r', label='Regression line')\n",
    "plt.xlabel(\"Average cosinetheta score\")\n",
    "plt.ylabel(\"MABC percentile\")\n",
    "plt.legend()\n"
   ]
  },
  {
   "cell_type": "markdown",
   "metadata": {},
   "source": [
    "#### PLOT 2: Correlation between MABC and average jerk"
   ]
  },
  {
   "cell_type": "code",
   "execution_count": 10,
   "metadata": {},
   "outputs": [
    {
     "data": {
      "text/plain": [
       "<matplotlib.legend.Legend at 0x12fe6dac8>"
      ]
     },
     "execution_count": 10,
     "metadata": {},
     "output_type": "execute_result"
    },
    {
     "data": {
      "image/png": "[encoded data removed]",
      "text/plain": [
       "<Figure size 432x288 with 1 Axes>"
      ]
     },
     "metadata": {
      "needs_background": "light"
     },
     "output_type": "display_data"
    }
   ],
   "source": [
    "\n",
    "# create a dataframe containing this data\n",
    "subdata_jerk = rr_data[['ID', 'jerk', 'mabc_percentile_score']]\n",
    "\n",
    "# create a dictionary containing children id's as key and a tuple containing costheta and mabc_percentile as val\n",
    "subdata_jerk_dictionary = {}\n",
    "for child_id in children_ids:\n",
    "    avg_jerk = subdata_jerk.loc[subdata['ID'] == child_id]['jerk'].mean()\n",
    "    mabc_perc = subdata_jerk.loc[subdata['ID'] == child_id]['mabc_percentile_score'].mean()\n",
    "    subdata_jerk_dictionary[child_id] = (avg_jerk, mabc_perc)\n",
    "    \n",
    "avg_jerk, mabc = dict_to_x_y(subdata_jerk_dictionary)\n",
    "slope, intercept, r_value, p_value, std_err = stats.linregress(avg_jerk, mabc)\n",
    "avg_jerk_slope = [i * slope for i in avg_jerk]\n",
    "\n",
    "# scatter plot with mabc\n",
    "plt.scatter(avg_jerk, mabc, label='Participant')\n",
    "plt.plot(avg_jerk, intercept + avg_jerk_slope, 'r', label='Regression line')\n",
    "plt.xlabel(\"Average jerk score\")\n",
    "plt.ylabel(\"MABC percentile\")\n",
    "plt.legend()\n"
   ]
  },
  {
   "cell_type": "markdown",
   "metadata": {},
   "source": [
    "#### PLOT 3: Correlation between average costheta and rounds"
   ]
  },
  {
   "cell_type": "code",
   "execution_count": 11,
   "metadata": {},
   "outputs": [
    {
     "name": "stdout",
     "output_type": "stream",
     "text": [
      "Average costheta per round for all kids:\n",
      "   level  costheta\n",
      "0      0  0.814482\n",
      "1      1  0.800522\n",
      "2      2  0.781877\n",
      "[0.814481824505863, 0.8005219329437955, 0.7818773117634136]\n"
     ]
    },
    {
     "data": {
      "image/png": "[encoded data removed]",
      "text/plain": [
       "<Figure size 432x288 with 1 Axes>"
      ]
     },
     "metadata": {
      "needs_background": "light"
     },
     "output_type": "display_data"
    },
    {
     "data": {
      "image/png": "[encoded data removed]",
      "text/plain": [
       "<Figure size 432x288 with 1 Axes>"
      ]
     },
     "metadata": {
      "needs_background": "light"
     },
     "output_type": "display_data"
    }
   ],
   "source": [
    "# Cosinus gemiddeld per ronde van alle kids (Casper)\n",
    "print(\"Average costheta per round for all kids:\")\n",
    "print(rr_221100.groupby('level', as_index=False)['costheta'].mean())\n",
    "print(list(rr_221100.groupby('level', as_index=False)['costheta'].mean()['costheta']))\n",
    "\n",
    "# get all names and average cosine\n",
    "names_rounds = list(rr_221100.groupby('level', as_index=False)['costheta'].mean()['level'])\n",
    "cos_rounds = list(rr_221100.groupby('level', as_index=False)['costheta'].mean()['costheta'])\n",
    "\n",
    "# ik krijg hier gvd geen normale schaalverdeling bij. Ylim werkt niet kutzooi\n",
    "# er is iig correlatie\n",
    "plt.bar(names_rounds, cos_rounds, alpha = 0.8)\n",
    "plt.title('Average cosine per round')\n",
    "plt.xlabel('Group')\n",
    "plt.ylabel('Cosine')\n",
    "# uncomment for save:\n",
    "# plt.savefig('plots/avg_cos_per_round.png', dpi=100)\n",
    "plt.show()\n",
    "\n",
    "\n",
    "# same with logarithmic scale\n",
    "plt.bar(names_rounds, cos_rounds, alpha = 0.8, log=True)\n",
    "plt.title('Average cosine per round')\n",
    "plt.xlabel('Group')\n",
    "plt.ylabel('logarithmic Cosine')\n",
    "# uncomment for save:\n",
    "# plt.savefig('plots/avg_cos_per_round_logscale.png', dpi=100)\n",
    "plt.show()"
   ]
  },
  {
   "cell_type": "code",
   "execution_count": 12,
   "metadata": {},
   "outputs": [],
   "source": [
    "#### PLOT 4: ... "
   ]
  },
  {
   "cell_type": "code",
   "execution_count": 13,
   "metadata": {},
   "outputs": [
    {
     "data": {
      "image/png": "[encoded data removed]",
      "text/plain": [
       "<Figure size 432x288 with 1 Axes>"
      ]
     },
     "metadata": {
      "needs_background": "light"
     },
     "output_type": "display_data"
    }
   ],
   "source": [
    "# BAR CHART average cosinus_theta / permutation\n",
    "permutations = sorted(rr_data['permutation'].unique())\n",
    "\n",
    "means = []\n",
    "for p in permutations:\n",
    "    thispermutation = rr_data.loc[rr_data['permutation'] == p]\n",
    "    means.append(thispermutation['costheta'].mean())\n",
    "    \n",
    "    \n",
    "plt.bar(permutations, means, log=True)\n",
    "plt.xlabel('Permutation')\n",
    "plt.ylabel('cosinus theta')\n",
    "plt.title('average cosinus_theta / permutation')\n",
    "plt.savefig('plots/cosine_permutation.png', dpi=100)\n",
    "plt.show()"
   ]
  },
  {
   "cell_type": "markdown",
   "metadata": {},
   "source": [
    "#### INFO 5: Avarage age of participants"
   ]
  },
  {
   "cell_type": "code",
   "execution_count": 14,
   "metadata": {},
   "outputs": [
    {
     "name": "stdout",
     "output_type": "stream",
     "text": [
      "The average age of all participants is 7.829102126212949\n"
     ]
    }
   ],
   "source": [
    "## get dataframe with only IDs for Average age\n",
    "ids = rr_data['ID'].unique()\n",
    "rr_data_id = rr_data.groupby('ID').first()\n",
    "ages = list(rr_data_id['age_precise'])\n",
    "print('The average age of all participants is {}'.format(np.mean(ages)))\n",
    "\n",
    "percs = list(rr_data_id['mabc_percentile_score'])"
   ]
  },
  {
   "cell_type": "markdown",
   "metadata": {},
   "source": [
    "#### PLOT 6: Pie charts of the genders"
   ]
  },
  {
   "cell_type": "code",
   "execution_count": 15,
   "metadata": {},
   "outputs": [
    {
     "data": {
      "text/plain": [
       "Text(0.5,1,'Gender distribution')"
      ]
     },
     "execution_count": 15,
     "metadata": {},
     "output_type": "execute_result"
    },
    {
     "data": {
      "image/png": "[encoded data removed]",
      "text/plain": [
       "<Figure size 360x360 with 1 Axes>"
      ]
     },
     "metadata": {},
     "output_type": "display_data"
    }
   ],
   "source": [
    "# pie chart of genders\n",
    "genderlist = list(rr_data_id.groupby('gender').size())\n",
    "labels = 'Male', 'Female'\n",
    "plt.rcParams[\"figure.figsize\"] = (5, 5)\n",
    "fig1, ax1 = plt.subplots()\n",
    "ax1.pie(genderlist, labels=labels, startangle=90, autopct='%1.1f%%')\n",
    "ax1.axis('equal')\n",
    "plt.title('Gender distribution')\n",
    "# uncomment for save:\n",
    "# fig1.savefig('plots/gender_pie.png', dpi=100)\n",
    "\n"
   ]
  },
  {
   "cell_type": "markdown",
   "metadata": {},
   "source": [
    "#### PLOT 6: Pie charts of the MABC"
   ]
  },
  {
   "cell_type": "code",
   "execution_count": 16,
   "metadata": {},
   "outputs": [
    {
     "data": {
      "text/plain": [
       "Text(0.5,1,'mABC test result')"
      ]
     },
     "execution_count": 16,
     "metadata": {},
     "output_type": "execute_result"
    },
    {
     "data": {
      "image/png": "[encoded data removed]",
      "text/plain": [
       "<Figure size 360x360 with 1 Axes>"
      ]
     },
     "metadata": {},
     "output_type": "display_data"
    }
   ],
   "source": [
    "# pie chart of MABC score\n",
    "abclist = list(rr_data_id.groupby('mabc_binary_score').size())\n",
    "labels = 'Regular skill development', 'Low skill development'\n",
    "plt.rcParams[\"figure.figsize\"] = (5, 5)\n",
    "fig1, ax1 = plt.subplots()\n",
    "ax1.pie(abclist, labels=labels, startangle=90, autopct='%1.1f%%')\n",
    "ax1.axis('equal')\n",
    "plt.title('mABC test result')\n",
    "# uncomment for save:\n",
    "# fig1.savefig('plots/mABC_pie.png', dpi=100)"
   ]
  },
  {
   "cell_type": "markdown",
   "metadata": {},
   "source": [
    "#### PLOT 7: Pie charts of the MABC"
   ]
  },
  {
   "cell_type": "code",
   "execution_count": 17,
   "metadata": {},
   "outputs": [
    {
     "data": {
      "text/plain": [
       "<matplotlib.legend.Legend at 0x130da9dd8>"
      ]
     },
     "execution_count": 17,
     "metadata": {},
     "output_type": "execute_result"
    },
    {
     "data": {
      "image/png": "[encoded data removed]",
      "text/plain": [
       "<Figure size 576x576 with 1 Axes>"
      ]
     },
     "metadata": {
      "needs_background": "light"
     },
     "output_type": "display_data"
    }
   ],
   "source": [
    "# create a dataframe containing this data\n",
    "subdata_jerk = rr_data[['ID', 'jerk', 'mabc_percentile_score']]\n",
    "\n",
    "# create a dictionary containing children id's as key and a tuple containing costheta and mabc_percentile as val\n",
    "subdata_jerk_dictionary = {}\n",
    "for child_id in children_ids:\n",
    "    var_jerk = subdata_jerk.loc[subdata['ID'] == child_id]['jerk'].var()\n",
    "    mabc_perc = subdata_jerk.loc[subdata['ID'] == child_id]['mabc_percentile_score'].mean()\n",
    "    subdata_jerk_dictionary[child_id] = (var_jerk, mabc_perc)\n",
    "\n",
    "var_jerk, mabc = dict_to_x_y(subdata_jerk_dictionary)\n",
    "slope, intercept, r_value, p_value, std_err = stats.linregress(var_jerk, mabc)\n",
    "var_jerk_slope = [i * slope for i in var_jerk]\n",
    "\n",
    "# scatter plot with mabc\n",
    "plt.rcParams[\"figure.figsize\"] = (8, 8)\n",
    "plt.scatter(var_jerk, mabc, label='Participant')\n",
    "plt.plot(var_jerk, intercept + var_jerk_slope, 'r', label='Regression line')\n",
    "plt.plot(var_jerk, [17 for i in range(len(var_jerk))], 'orange', label='motoric discriminator')\n",
    "plt.xlabel(\"Variance in Jerk\")\n",
    "plt.ylabel(\"MABC percentile\")\n",
    "plt.legend()"
   ]
  },
  {
   "cell_type": "markdown",
   "metadata": {},
   "source": [
    "#### Plot 8: Variance in Jerk in relation to speed"
   ]
  },
  {
   "cell_type": "code",
   "execution_count": 18,
   "metadata": {},
   "outputs": [
    {
     "data": {
      "image/png": "[encoded data removed]",
      "text/plain": [
       "<Figure size 576x576 with 1 Axes>"
      ]
     },
     "metadata": {
      "needs_background": "light"
     },
     "output_type": "display_data"
    },
    {
     "data": {
      "image/png": "[encoded data removed]",
      "text/plain": [
       "<Figure size 576x576 with 1 Axes>"
      ]
     },
     "metadata": {
      "needs_background": "light"
     },
     "output_type": "display_data"
    }
   ],
   "source": [
    "# create a dataframe containing this data\n",
    "subdata_jerk_speed = rr_data[['ID', 'jerk', 'mabc_binary_score', 'snelheid', 'round']]\n",
    "\n",
    "speedset = set(subdata_jerk_speed['snelheid'])\n",
    "\n",
    "\n",
    "subdata_jerk_speed.head(10)\n",
    "\n",
    "\n",
    "var_jerk_list = []\n",
    "mean_jerk_list = []\n",
    "speed_list = []\n",
    "mabc_list = []\n",
    "\n",
    "# onderpresterende kinderen reacting to snelheid en jerk\n",
    "for child_id in children_ids:\n",
    "    mabc = subdata_jerk_speed.loc[subdata_jerk_speed['ID'] == child_id]['mabc_binary_score'].mean()\n",
    "    for speed in speedset:\n",
    "        var_jerk = subdata_jerk_speed.loc[(subdata_jerk_speed['ID'] == child_id) & (subdata_jerk_speed['snelheid'] == speed)]['jerk'].var()\n",
    "        mean_jerk = subdata_jerk_speed.loc[(subdata_jerk_speed['ID'] == child_id) & (subdata_jerk_speed['snelheid'] == speed)]['jerk'].mean()\n",
    "#         print(child_id, \"has\", mean_jerk, var_jerk, \" on speed\", speed, \". His MABS is:\", mabc)\n",
    "        speed_list.append(speed)\n",
    "        var_jerk_list.append(var_jerk)\n",
    "        mean_jerk_list.append(mean_jerk)\n",
    "        mabc_list.append(mabc)\n",
    "#     print()\n",
    "\n",
    "color_list = ['green' if int(i) is 0 else 'red' for i in mabc_list]\n",
    "\n",
    "plt.rcParams[\"figure.figsize\"] = (8,8)\n",
    "plt.scatter(speed_list, var_jerk_list, color=color_list, label='Participant')\n",
    "plt.title(\"Variance in jerk in relation to speed (per person)\")\n",
    "plt.legend()\n",
    "plt.xlabel(\"Speed\")\n",
    "plt.ylabel(\"Variance in Jerk\")\n",
    "plt.show()\n",
    "\n",
    "plt.rcParams[\"figure.figsize\"] = (8,8)\n",
    "plt.scatter(speed_list, mean_jerk_list, color=color_list, label='Participant')\n",
    "plt.title(\"Mean jerk in relation to speed (per person)\")\n",
    "plt.legend()\n",
    "plt.xlabel(\"Speed\")\n",
    "plt.ylabel(\"Mean Jerk\")\n",
    "plt.show()\n"
   ]
  },
  {
   "cell_type": "markdown",
   "metadata": {},
   "source": [
    "#### Plot 9: ...."
   ]
  },
  {
   "cell_type": "code",
   "execution_count": 19,
   "metadata": {},
   "outputs": [
    {
     "name": "stdout",
     "output_type": "stream",
     "text": [
      "     round  costheta\n",
      "0  level_A  0.840348\n",
      "1  level_B  0.812286\n",
      "2  level_C  0.782614\n",
      "3  level_D  0.783407\n",
      "4  level_E  0.789382\n",
      "5  level_F  0.785403\n",
      "[0.8403480702396885, 0.8122860235096364, 0.7826141749435335, 0.7834074690478088, 0.7893822278971558, 0.7854031804682886]\n"
     ]
    },
    {
     "data": {
      "image/png": "[encoded data removed]",
      "text/plain": [
       "<Figure size 576x576 with 1 Axes>"
      ]
     },
     "metadata": {
      "needs_background": "light"
     },
     "output_type": "display_data"
    },
    {
     "data": {
      "image/png": "[encoded data removed]",
      "text/plain": [
       "<Figure size 576x576 with 1 Axes>"
      ]
     },
     "metadata": {
      "needs_background": "light"
     },
     "output_type": "display_data"
    }
   ],
   "source": [
    "# Cosinus gemiddeld per ronde van alle kids (Casper)\n",
    "print(rr_data.groupby('round', as_index=False)['costheta'].mean())\n",
    "print(list(rr_data.groupby('round', as_index=False)['costheta'].mean()['costheta']))\n",
    "\n",
    "# get all names and average cosine\n",
    "names_rounds = list(rr_data.groupby('round', as_index=False)['costheta'].mean()['round'])\n",
    "cos_rounds = list(rr_data.groupby('round', as_index=False)['costheta'].mean()['costheta'])\n",
    "\n",
    "# ik krijg hier gvd geen normale schaalverdeling bij. Ylim werkt niet kutzooi\n",
    "# er is iig correlatie\n",
    "plt.bar(names_rounds, cos_rounds, alpha = 0.8)\n",
    "plt.title('Average cosine per round')\n",
    "plt.xlabel('Group')\n",
    "plt.ylabel('Cosine')\n",
    "# uncomment for save:\n",
    "# plt.savefig('plots/avg_cos_per_round.png', dpi=100)\n",
    "plt.show()\n",
    "\n",
    "\n",
    "# same with logarithmic scale\n",
    "plt.bar(names_rounds, cos_rounds, alpha = 0.8, log=True)\n",
    "plt.title('Average cosine per round')\n",
    "plt.xlabel('Group')\n",
    "plt.ylabel('logarithmic Cosine')\n",
    "# uncomment for save:\n",
    "# plt.savefig('plots/avg_cos_per_round_logscale.png', dpi=100)\n",
    "plt.show()"
   ]
  },
  {
   "cell_type": "markdown",
   "metadata": {},
   "source": [
    "#### Plot 10: Mean and var of cosine per level"
   ]
  },
  {
   "cell_type": "code",
   "execution_count": 20,
   "metadata": {},
   "outputs": [
    {
     "data": {
      "image/png": "[encoded data removed]",
      "text/plain": [
       "<Figure size 576x576 with 1 Axes>"
      ]
     },
     "metadata": {
      "needs_background": "light"
     },
     "output_type": "display_data"
    },
    {
     "data": {
      "text/plain": [
       "<Figure size 576x432 with 0 Axes>"
      ]
     },
     "metadata": {},
     "output_type": "display_data"
    }
   ],
   "source": [
    "# drop ID 255\n",
    "rr_data_dropped = rr_data\n",
    "rr_data_dropped = rr_data_dropped.drop(rr_data[rr_data.ID == 255].index)\n",
    "\n",
    "# divide dataset based on mABC score\n",
    "normaal = rr_data_dropped[rr_data_dropped['mabc_binary_score'] == 0]\n",
    "gestoord = rr_data_dropped[rr_data_dropped['mabc_binary_score'] == 1]\n",
    "\n",
    "# get average cosines of normal kids\n",
    "normaal_avgcos = list(normaal.groupby('level', as_index=False)['costheta'].mean()['costheta'])\n",
    "\n",
    "# get average cosines of gestoorde kids\n",
    "gestoord_avgcos = list(gestoord.groupby('level', as_index=False)['costheta'].mean()['costheta'])\n",
    "\n",
    "# get variance of cosines of normal en gestoorde kids\n",
    "normaal_var = list(normaal.groupby('level', as_index=False)['costheta'].var()['costheta'])\n",
    "gestoord_var = list(gestoord.groupby('level', as_index=False)['costheta'].var()['costheta'])\n",
    "\n",
    "# plot beautiful barchart\n",
    "from matplotlib.ticker import MaxNLocator\n",
    "from collections import namedtuple\n",
    "\n",
    "n_groups = 3\n",
    "fig, ax = plt.subplots()\n",
    "plt.figure(figsize=(8,6))\n",
    "\n",
    "index = np.arange(n_groups)\n",
    "bar_width = 0.35\n",
    "\n",
    "opacity = 0.4\n",
    "error_config = {'ecolor': '0.3'}\n",
    "\n",
    "rects1 = ax.bar(index, normaal_avgcos, bar_width,\n",
    "                alpha=opacity, color='b',\n",
    "                yerr=normaal_var, error_kw=error_config,\n",
    "                label='No Motor skill problems')\n",
    "\n",
    "rects2 = ax.bar(index + bar_width, gestoord_avgcos, bar_width,\n",
    "                alpha=opacity, color='r',\n",
    "                yerr=gestoord_var, error_kw=error_config,\n",
    "                label='Motor skill problems')\n",
    "\n",
    "ax.set_xlabel('Level', fontsize=14)\n",
    "ax.set_ylabel('Scores', fontsize=14)\n",
    "ax.set_title('Mean and Variance of cosine per level', fontsize=16)\n",
    "ax.set_xticks(index + bar_width / 2)\n",
    "ax.set_xticklabels(('Easy', 'Difficult', 'Hard'))\n",
    "ax.legend()\n",
    "# uncomment for save\n",
    "# fig.savefig('plots/mean_var_cos_per_level.png', dpi=100)\n",
    "\n",
    "plt.show()"
   ]
  },
  {
   "cell_type": "markdown",
   "metadata": {},
   "source": [
    "#### Plot 11: Correlation between rr & m game"
   ]
  },
  {
   "cell_type": "code",
   "execution_count": 21,
   "metadata": {},
   "outputs": [
    {
     "name": "stdout",
     "output_type": "stream",
     "text": [
      "The average of children without motor skill problems : 0.2940828632338094\n",
      "The average of children with motor skill problems : 0.3221141618978073\n"
     ]
    },
    {
     "data": {
      "image/png": "[encoded data removed]",
      "text/plain": [
       "<Figure size 576x576 with 1 Axes>"
      ]
     },
     "metadata": {
      "needs_background": "light"
     },
     "output_type": "display_data"
    }
   ],
   "source": [
    "# difference Roadrunner en maze lilcasp\n",
    "# avg costheta roadrunner participants\n",
    "rr_costheta_normaal = list((normaal.groupby('ID', as_index=False)['costheta'].mean()['costheta']))\n",
    "rr_costheta_gestoord = list((gestoord.groupby('ID', as_index=False)['costheta'].mean()['costheta']))\n",
    "\n",
    "# split data of maze \n",
    "normaal_m = m_data[m_data['mabc_binary_score'] == 0]\n",
    "gestoord_m = m_data[m_data['mabc_binary_score'] == 1]\n",
    "\n",
    "m_incorrect_normaal = list((normaal_m.groupby('ID', as_index=False)['incorrect'].mean()['incorrect']))\n",
    "m_incorrect_gestoord = list((gestoord_m.groupby('ID', as_index=False)['incorrect'].mean()['incorrect']))\n",
    "\n",
    "print('The average of children without motor skill problems : {}'.format(np.mean(m_incorrect_normaal)))\n",
    "print('The average of children with motor skill problems : {}'.format(np.mean(m_incorrect_gestoord)))\n",
    "\n",
    "# plot this babe\n",
    "plt.scatter(rr_costheta_normaal, m_incorrect_normaal, color='green', label='No motor skill problems')\n",
    "plt.scatter(rr_costheta_gestoord, m_incorrect_gestoord, color='red', label='Motor skill problems')\n",
    "plt.title('Correlation betweeen RR and Maze game', fontsize=16)\n",
    "plt.xlabel('costheta (RoadRunner game)')\n",
    "plt.ylabel('incorectness (Maze game)')\n",
    "plt.legend()\n",
    "# plt.savefig('plots/correlation_RR_M.png', dpi=100)\n",
    "plt.show()"
   ]
  },
  {
   "cell_type": "markdown",
   "metadata": {},
   "source": [
    "#  <font color='red'>Machine Learning</font>"
   ]
  },
  {
   "cell_type": "markdown",
   "metadata": {},
   "source": [
    "#### Splits all rows in training data, validation data and testing data. "
   ]
  },
  {
   "cell_type": "code",
   "execution_count": 22,
   "metadata": {},
   "outputs": [],
   "source": [
    "# shuffle this list\n",
    "shuffled_kids = random.sample(list(children_ids), len(list(children_ids)))\n",
    "\n",
    "# 56 kinderen training\n",
    "# 20 kinderen\n",
    "# 20 kinderen\n",
    "training_kids = shuffled_kids[:56]\n",
    "val_kids = shuffled_kids[56:76]\n",
    "testing_kids = shuffled_kids[76:96]\n",
    "\n",
    "rr_training_data = rr_data.loc[rr_data['ID'].isin(training_kids)]\n",
    "rr_val_data = rr_data.loc[rr_data['ID'].isin(val_kids)]\n",
    "rr_testing_data = rr_data.loc[rr_data['ID'].isin(testing_kids)]"
   ]
  },
  {
   "cell_type": "markdown",
   "metadata": {},
   "source": [
    "#### Applies polynomial regression on each kid on the round with the 0.4 speed (level_2). <br> Possible to plot. <br> Creates array with X as training data (polynomial regression coordinates) and Y is just the label (problem or not)"
   ]
  },
  {
   "cell_type": "code",
   "execution_count": 27,
   "metadata": {},
   "outputs": [],
   "source": [
    "X = []\n",
    "Y = []\n",
    "\n",
    "for child_id in children_ids:\n",
    "    child_frame = rr_221100.loc[(rr_221100['ID'] == child_id) & (rr_221100['snelheid'] == 0.4)]\n",
    "    \n",
    "    child_frame_1 = child_frame.loc[(child_frame['times_level_played_before'] == 1)]\n",
    "    times_1 = list(child_frame_1['time_resetted_each_round'])\n",
    "    costheta_1 = list(child_frame_1['costheta'])\n",
    "    \n",
    "    child_frame_2 = child_frame.loc[(child_frame['times_level_played_before'] == 2)]\n",
    "    times_2 = list(child_frame_2['time_resetted_each_round'])\n",
    "    costheta_2 = list(child_frame_2['costheta'])\n",
    "    \n",
    "    mabc_percentile = list(child_frame['mabc_percentile_score'].head(1))[0]\n",
    "    mabc_binary = list(child_frame['mabc_binary_score'].head(1))[0]\n",
    "    \n",
    "    p = Polynomial.fit(times_1, costheta_1, 7)\n",
    "    values_polynomial = np.array(p.linspace()[0])\n",
    "    \n",
    "    X.append(values_polynomial)\n",
    "    Y.append(mabc_to_arr(int(mabc_binary), 3))\n",
    "    \n",
    "#     # UNCOMMENT TO PLOT\n",
    "#     if list(child_frame['mabc_binary_score'].head(1))[0]:\n",
    "#         color = 'red'\n",
    "#         label = 'low'\n",
    "#         weight = (100 - mabc_percentile)/100\n",
    "#     else:\n",
    "#         color = 'green'\n",
    "#         label = 'well'\n",
    "#         weight = mabc_percentile/100\n",
    "    \n",
    "#     plt.plot(*p.linspace(), linewidth=4, color=color, label=\"polyfit\")\n",
    "#     plt.rcParams[\"figure.figsize\"] = (17, 14)\n",
    "#     plt.plot(times_1, costheta_1, color, alpha=weight, label=\"first round of a {}-performing child (MABC {})\".format(label, mabc_percentile))\n",
    "#     plt.plot(times_2, costheta_2, color, alpha=weight, label=\"second round of {}-performing child (MABC {})\".format(label, mabc_percentile))\n",
    "#     plt.title('0.4 Speed rounds of child {}'.format(child_id))\n",
    "#     plt.xlabel('Time in seconds')\n",
    "#     plt.ylabel('Cosinetheta Score')\n",
    "#     plt.legend()\n",
    "#     plt.show()\n",
    "    \n",
    "X = np.array(X)\n",
    "Y = np.array(Y)"
   ]
  },
  {
   "cell_type": "code",
   "execution_count": 28,
   "metadata": {},
   "outputs": [
    {
     "name": "stdout",
     "output_type": "stream",
     "text": [
      "Iteration 1, loss = 10.76900645\n",
      "Iteration 2, loss = 15.93945429\n",
      "Iteration 3, loss = 20.87655528\n",
      "Iteration 4, loss = 17.00859882\n",
      "Iteration 5, loss = 12.35302093\n",
      "Iteration 6, loss = 9.18452025\n",
      "Iteration 7, loss = 4.28880058\n",
      "Iteration 8, loss = 6.63156196\n",
      "Iteration 9, loss = 8.57019809\n",
      "Iteration 10, loss = 7.84172368\n",
      "Iteration 11, loss = 5.79614680\n",
      "Iteration 12, loss = 1.91851383\n",
      "Iteration 13, loss = 4.15010446\n",
      "Iteration 14, loss = 5.38687265\n",
      "Iteration 15, loss = 6.67371631\n",
      "Iteration 16, loss = 6.14073983\n",
      "Iteration 17, loss = 4.49283429\n",
      "Iteration 18, loss = 2.62121411\n",
      "Iteration 19, loss = 2.28338246\n",
      "Iteration 20, loss = 3.98185026\n",
      "Iteration 21, loss = 4.34105031\n",
      "Iteration 22, loss = 3.68267538\n",
      "Iteration 23, loss = 1.94724213\n",
      "Training loss did not improve more than tol=0.000000 for 10 consecutive epochs. Stopping.\n"
     ]
    },
    {
     "data": {
      "text/plain": [
       "MLPClassifier(activation='identity', alpha=0.0002, batch_size='auto',\n",
       "       beta_1=0.9, beta_2=0.999, early_stopping=False, epsilon=1e-08,\n",
       "       hidden_layer_sizes=(96, 96, 3), learning_rate='constant',\n",
       "       learning_rate_init=0.001, max_iter=1000, momentum=0.9,\n",
       "       n_iter_no_change=10, nesterovs_momentum=True, power_t=0.5,\n",
       "       random_state=None, shuffle=True, solver='adam', tol=1e-13,\n",
       "       validation_fraction=0.1, verbose=1, warm_start=False)"
      ]
     },
     "execution_count": 28,
     "metadata": {},
     "output_type": "execute_result"
    }
   ],
   "source": [
    "clf = MLPClassifier(hidden_layer_sizes=(96,96,3), max_iter=1000, alpha=0.0002,\n",
    "                     solver='adam', activation='identity', verbose=1,tol=0.0000000000001)\n",
    "clf.fit(np.array(X), np.array(Y))\n",
    "\n",
    "# y_pred = clf.predict(np.array(X))"
   ]
  },
  {
   "cell_type": "code",
   "execution_count": null,
   "metadata": {},
   "outputs": [],
   "source": []
  }
 ],
 "metadata": {
  "kernelspec": {
   "display_name": "Python 3",
   "language": "python",
   "name": "python3"
  },
  "language_info": {
   "codemirror_mode": {
    "name": "ipython",
    "version": 3
   },
   "file_extension": ".py",
   "mimetype": "text/x-python",
   "name": "python",
   "nbconvert_exporter": "python",
   "pygments_lexer": "ipython3",
   "version": "3.7.0"
  }
 },
 "nbformat": 4,
 "nbformat_minor": 2
}
